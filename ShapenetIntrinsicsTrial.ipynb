{
 "cells": [
  {
   "cell_type": "code",
   "execution_count": null,
   "metadata": {
    "collapsed": true
   },
   "outputs": [],
   "source": [
    "%matplotlib inline\n",
    "import tensorflow as tf\n",
    "import numpy as np\n",
    "import matplotlib.pyplot as plt\n",
    "import matplotlib.cm as cm\n",
    "import random"
   ]
  },
  {
   "cell_type": "code",
   "execution_count": null,
   "metadata": {
    "collapsed": true
   },
   "outputs": [],
   "source": [
    "hello = tf.constant('Hello, TensorFlow!')\n",
    "sess = tf.Session()\n",
    "print(sess.run(hello))"
   ]
  },
  {
   "cell_type": "code",
   "execution_count": null,
   "metadata": {
    "collapsed": true
   },
   "outputs": [],
   "source": [
    "def load_dataset():\n",
    "    #TODO: Load data\n",
    "    return X_train, labels_train, X_test\n",
    "\n",
    "X_train, labels_train, X_test = load_dataset()"
   ]
  },
  {
   "cell_type": "code",
   "execution_count": null,
   "metadata": {
    "collapsed": true
   },
   "outputs": [],
   "source": [
    "#creating the one_hot encoding\n",
    "# print(labels_train)\n",
    "# one_hot = np.zeros((labels_train.shape[0], 10))\n",
    "# for x in range(labels_train.shape[0]):\n",
    "#     one_hot[x][labels_train[x]] = 1\n",
    "    \n",
    "# labels_train = one_hot"
   ]
  },
  {
   "cell_type": "code",
   "execution_count": null,
   "metadata": {
    "collapsed": true
   },
   "outputs": [],
   "source": [
    "#subtract by the mean and divide by the standard deviation\n",
    "#normalize data\n",
    "# X_train = (X_train - np.mean(X_train)) / np.std(X_train)\n",
    "\n",
    "#unused method to scale from 0 to 1~ish\n",
    "def preproc(unclean_batch_x):\n",
    "    \"\"\"Convert values to range 0-1\"\"\"\n",
    "    temp_batch = unclean_batch_x / unclean_batch_x.max()\n",
    "    return temp_batch\n",
    "X_train = preproc(X_train)"
   ]
  },
  {
   "cell_type": "code",
   "execution_count": null,
   "metadata": {
    "collapsed": true
   },
   "outputs": [],
   "source": [
    "#splits the data into sets\n",
    "x_training = X_train[:50000]\n",
    "x_valid = X_train[50000:60000]\n",
    "labels_training = labels_train[:50000]\n",
    "labels_valid = labels_train[50000:60000]"
   ]
  },
  {
   "cell_type": "code",
   "execution_count": null,
   "metadata": {
    "collapsed": true
   },
   "outputs": [],
   "source": [
    "# batch size of one = stochastic gradient descent, mini-batch gradient descent\n",
    "# should use 10 at once\n",
    "# mini batch neural nets tensorflow\n",
    "# fc, relu, maybe a few repetitions, softmax\n",
    "\n",
    "M = 70 #M is the input size factor\n",
    "\n",
    "input_size = 32*M # 28 x 28\n",
    "output_size = 32*M\n",
    "\n",
    "# dropout = 0.8 # probability of keeping that data point\n",
    "# dropout2 = 0.9\n",
    "\n",
    "# learning_rate = 0.5\n",
    "\n",
    "# data placeholders\n",
    "\n",
    "# input data\n",
    "x = tf.placeholder(tf.float32, shape=[None, input_size])\n",
    "# correct answers\n",
    "y = tf.placeholder(tf.float32, [None, output_size])\n",
    "# dropout variable\n",
    "keep_prob = tf.placeholder(tf.float32)\n",
    "keep_prob2 = tf.placeholder(tf.float32)\n"
   ]
  },
  {
   "cell_type": "code",
   "execution_count": null,
   "metadata": {
    "collapsed": true
   },
   "outputs": [],
   "source": [
    "# Create some wrappers for simplicity\n",
    "def conv2d(x, W, b, strides=1):\n",
    "    # Conv2D wrapper, with bias and relu activation\n",
    "    x = tf.nn.conv2d(x, W, strides=[1, strides, strides, 1], padding='SAME')\n",
    "    x = tf.nn.bias_add(x, b)\n",
    "    # Batch Norm\n",
    "    x = tf.contrib.layers.batch_norm(x, center=True, scale=True, is_training=phase, scope='bn')\n",
    "    return tf.nn.relu(x)\n",
    "\n",
    "\n",
    "def maxpool2d(x, k=2):\n",
    "    # MaxPool2D wrapper\n",
    "    return tf.nn.max_pool(x, ksize=[1, k, k, 1], strides=[1, k, k, 1],\n",
    "                          padding='SAME')\n",
    "\n",
    "\n",
    "def get_kernel_size(factor):\n",
    "    \"\"\"\n",
    "    Find the kernel size given the desired factor of upsampling.\n",
    "    \"\"\"\n",
    "    return 2 * factor - factor % 2\n",
    "\n",
    "\n",
    "def upsample_filt(size):\n",
    "    \"\"\"\n",
    "    Make a 2D bilinear kernel suitable for upsampling of the given (h, w) size.\n",
    "    \"\"\"\n",
    "    factor = (size + 1) // 2\n",
    "    if size % 2 == 1:\n",
    "        center = factor - 1\n",
    "    else:\n",
    "        center = factor - 0.5\n",
    "    og = np.ogrid[:size, :size]\n",
    "    return (1 - abs(og[0] - center) / factor) * \\\n",
    "           (1 - abs(og[1] - center) / factor)\n",
    "\n",
    "\n",
    "def bilinear_upsample_weights(factor, number_of_classes):\n",
    "    \"\"\"\n",
    "    Create weights matrix for transposed convolution with bilinear filter\n",
    "    initialization.\n",
    "    \"\"\"\n",
    "    filter_size = get_kernel_size(factor)\n",
    "    weights = np.zeros((filter_size,\n",
    "                        filter_size,\n",
    "                        number_of_classes,\n",
    "                        number_of_classes), dtype=np.float32)\n",
    "    \n",
    "    upsample_kernel = upsample_filt(filter_size)\n",
    "    \n",
    "    for i in xrange(number_of_classes):\n",
    "        weights[:, :, i, i] = upsample_kernel\n",
    "    return weights\n",
    "\n",
    "def upsample_bilinear_interpolation(conv, scale):\n",
    "    old_height = conv.shape()[0]\n",
    "    old_width = conv.shape()[1]\n",
    "    new_height = int(round(old_height * scale))\n",
    "    new_width = int(round(old_width * scale))\n",
    "    resized = tf.image.resize_images(input_tensor, [new_height, new_width])\n",
    "    return resized\n",
    "\n"
   ]
  },
  {
   "cell_type": "code",
   "execution_count": 2,
   "metadata": {
    "collapsed": false
   },
   "outputs": [
    {
     "ename": "IndentationError",
     "evalue": "expected an indented block (<ipython-input-2-ce3af56b21c2>, line 8)",
     "output_type": "error",
     "traceback": [
      "\u001b[1;36m  File \u001b[1;32m\"<ipython-input-2-ce3af56b21c2>\"\u001b[1;36m, line \u001b[1;32m8\u001b[0m\n\u001b[1;33m    x = tf.reshape(x, shape=[-1, 28, 28, 1])\u001b[0m\n\u001b[1;37m    ^\u001b[0m\n\u001b[1;31mIndentationError\u001b[0m\u001b[1;31m:\u001b[0m expected an indented block\n"
     ]
    }
   ],
   "source": [
    "    # Max Pooling (down-sampling)\n",
    "#     conv1 = maxpool2d(conv1, k=2)\n",
    "#     print(\"conv1 after pool\", conv1.shape)\n",
    "\n",
    "# Create model\n",
    "def encoder_layers(x, weights, biases, dropout, dropout2):\n",
    "    # Reshape input picture\n",
    "    x = tf.reshape(x, shape=[-1, 28, 28, 1])\n",
    "\n",
    "    # Convolution Layer + relu\n",
    "    conv0 = conv2d(x, weights['wcconv0'], biases['bc0'])\n",
    "    print(\"conv0 and relu\", conv0.shape)\n",
    "    \n",
    "    # Convolution Layer + relu\n",
    "    conv1 = conv2d(x, weights['wcconv1'], biases['bc1'])\n",
    "    print(\"conv1 and relu\", conv1.shape)\n",
    "\n",
    "    # Convolution Layer + relu\n",
    "    conv2 = conv2d(conv1, weights['wcconv2'], biases['bc2'])\n",
    "    print(\"conv2 and relu\", conv2.shape)\n",
    "    \n",
    "    # Convolution Layer + relu\n",
    "    conv3 = conv2d(conv2, weights['wcconv3'], biases['bc3'])\n",
    "    print(\"conv3 and relu\", conv3.shape)\n",
    "\n",
    "    # Convolution Layer + relu\n",
    "    conv4 = conv2d(conv3, weights['wcconv4'], biases['bc4'])\n",
    "    print(\"conv4 and relu\", conv4.shape)\n",
    "\n",
    "    # Convolution Layer + relu\n",
    "    conv5 = conv2d(conv4, weights['wcconv5'], biases['bc4'])\n",
    "    print(\"conv5 and relu\", conv5.shape)\n",
    "\n",
    "    return [conv0, conv1, conv2, conv3, conv4, conv5]\n"
   ]
  },
  {
   "cell_type": "code",
   "execution_count": null,
   "metadata": {
    "collapsed": true
   },
   "outputs": [],
   "source": [
    "####Start Decoder\n",
    "def decoder_layers(convs, rep_weights, rep_biases):\n",
    "    \n",
    "    mid = []\n",
    "    for i in range(1,4):\n",
    "        fc1 = conv2d(fc0, rep_weights[i][1], rep_biases[i][1])\n",
    "        fc2 = conv2d(fc1, rep_weights[i][2], rep_biases[i][2])\n",
    "        fc3 = conv2d(fc2, rep_weights[i][3], rep_biases[i][3])\n",
    "        mid[i] = conv2d(fc3, rep_weights[i][4], rep_biases[i][4])\n",
    "    mid[4] = convs[5]\n",
    "    \n",
    "    \n",
    "    deconvs0 = []\n",
    "    for i in range(1,4):\n",
    "#         deconv0:add(nn.JoinTable(2))\n",
    "#         deconv0:add(SConv(1024,256,3,3,1,1,1,1))\n",
    "#         deconv0:add(SBatchNorm(256))\n",
    "#         deconv0:add(nn.ReLU(true))\n",
    "#         deconv0:add(SUpSamp(2))\n",
    "#         deconvs0[i] = deconv0(mid) -- 16x16\n",
    "#         end\n",
    "        #TODO: Deconv and upsampling\n",
    "#         deconv = tf.nn.conv2d_transpose(input_layer, [3, 3, 1, 1], [1, 26, 20, 1], [1, 2, 2, 1], padding='SAME', name=None)\n",
    "        axis = 0\n",
    "        dec1 = tf.concat([mid[i], mid[i+1]], axis)\n",
    "        dec2 = conv2d(dec1, deconvs0_w[i], deconvs0_b[i])\n",
    "        dec3 = upsample_tf(factor=2, input_img= dec2)\n",
    "    deconvs0[4] = convs[4]"
   ]
  },
  {
   "cell_type": "code",
   "execution_count": null,
   "metadata": {
    "collapsed": true
   },
   "outputs": [],
   "source": [
    "# Store layers weight & bias\n",
    "# more parameters\n",
    "filter_size = 3\n",
    "\n",
    "wc0_depth = 16\n",
    "wc1_depth = 32\n",
    "wc2_depth = 64\n",
    "wc3_depth = 128\n",
    "wc4_depth = 256\n",
    "wc5_depth = 256\n",
    "\n",
    "fc1_depth = 256\n",
    "\n",
    "weights = {\n",
    "    'wcconv0': tf.Variable(tf.random_normal([filter_size, filter_size, 3, wc0_depth])), #\n",
    "    'wcconv1': tf.Variable(tf.random_normal([filter_size, filter_size, wc0_depth, wc1_depth])), #\n",
    "    'wcconv2': tf.Variable(tf.random_normal([filter_size, filter_size, wc1_depth, wc2_depth])), #\n",
    "    'wcconv3': tf.Variable(tf.random_normal([filter_size, filter_size, wc2_depth, wc3_depth])), #\n",
    "    'wcconv4': tf.Variable(tf.random_normal([filter_size, filter_size, wc3_depth, wc4_depth])), #\n",
    "    'wcconv5': tf.Variable(tf.random_normal([filter_size, filter_size, wc4_depth, wc5_depth])), #\n",
    "    \n",
    "    \n",
    "    # fully connected\n",
    "    'wd1': tf.Variable(tf.random_normal([7*7*wc2_depth, fc1_depth])), #\n",
    "    'out': tf.Variable(tf.random_normal([fc1_depth, output_size])) #\n",
    "}\n",
    "\n",
    "biases = {\n",
    "    'bc0': tf.Variable(tf.random_normal([wc0_depth])),\n",
    "    'bc1': tf.Variable(tf.random_normal([wc1_depth])),\n",
    "    'bc2': tf.Variable(tf.random_normal([wc2_depth])),\n",
    "    'bc3': tf.Variable(tf.random_normal([wc3_depth])),\n",
    "    'bc4': tf.Variable(tf.random_normal([wc4_depth])),\n",
    "    'bc5': tf.Variable(tf.random_normal([wc5_depth])),\n",
    "    \n",
    "    # fully connected\n",
    "    'bd1': tf.Variable(tf.random_normal([fc1_depth])),\n",
    "    'out': tf.Variable(tf.random_normal([output_size]))\n",
    "}\n",
    "\n",
    "mid_w = []\n",
    "mid_b = []\n",
    "for i in range(1, 4):\n",
    "    mid_w[i] = tf.Variable(tf.random_normal([filter_size, filter_size, 3, wc0_depth])), #\n",
    "    mid_b[i] = tf.Variable(tf.random_normal([filter_size, filter_size, 3, wc0_depth])), #\n",
    "    \n",
    "deconv0_w = []\n",
    "deconv0_b = []\n",
    "for i in range(1, 4):\n",
    "    deconv0_w[i] = tf.Variable(tf.random_normal([256, 256]))\n",
    "    deconv0_b[i] = tf.Variable(tf.random_normal([256]))\n",
    "    \n",
    "    \n",
    "# Construct model\n",
    "convs = encoder_layers(x, weights, biases, keep_prob, keep_prob2)\n",
    "pred = decoder_layer(convs, rep_weights, rep_biases)\n",
    "\n",
    "# Define loss and optimizer\n",
    "cost = tf.reduce_mean(tf.nn.softmax_cross_entropy_with_logits(logits=pred, labels=y))\n",
    "# optimizer = tf.train.AdamOptimizer(learning_rate=learning_rate).minimize(cost)\n",
    "optimizer = tf.train.GradientDescentOptimizer(learning_rate).minimize(cost)\n",
    "\n",
    "# Evaluate model\n",
    "correct_pred = tf.equal(tf.argmax(pred, 1), tf.argmax(y, 1))\n",
    "accuracy = tf.reduce_mean(tf.cast(correct_pred, tf.float32))\n",
    "\n",
    "# Initializing the variables\n",
    "init = tf.global_variables_initializer()"
   ]
  },
  {
   "cell_type": "code",
   "execution_count": null,
   "metadata": {
    "collapsed": true
   },
   "outputs": [],
   "source": [
    "# more parameters\n",
    "batch_size = 30\n",
    "epochs = 5\n",
    "\n",
    "display_step = 1\n",
    "\n",
    "n_samples = x_training.shape[0]\n",
    "#rounds_number = data_size/ batch_size\n",
    "\n",
    "mean_losses = []\n",
    "mean_accs = []\n",
    "\n",
    "# Launch the graph\n",
    "with tf.Session() as sess:\n",
    "    sess.run(init)\n",
    "    # Keep training until reach max iterations\n",
    "    for epoch in range(epochs):\n",
    "        print(\"running epoch: \", epoch)\n",
    "        total_iter = n_samples // batch_size #total_iter\n",
    "        total_loss = 0\n",
    "#         indeces = np.random.permutations(np.arange(len(n_samples))\n",
    "        \n",
    "        for i in range(total_iter):\n",
    "#             x = X[i * batch_size : (i + 1) * batch_size]\n",
    "            start = i * batch_size\n",
    "            end = (i + 1) * batch_size\n",
    "            batch_x, batch_y = x_training[start:end], labels_training[start:end]\n",
    "            \n",
    "            # Run optimization op (backprop)\n",
    "            sess.run(optimizer, feed_dict={x: batch_x, y: batch_y, keep_prob: dropout, keep_prob2: dropout2})\n",
    "            \n",
    "            # Calculate batch loss and accuracy \n",
    "#             loss = sess.run(cost, feed_dict={x: batch_x, y: batch_y, keep_prob: 1., keep_prob2: 1.})\n",
    "            loss, acc = sess.run([cost, accuracy], feed_dict={x: batch_x, y: batch_y, keep_prob: 1., keep_prob2: 1.})\n",
    "#             loss = self.fit_batch(x)\n",
    "            total_loss += loss\n",
    "#             total_acc += acc\n",
    "\n",
    "            if i%100 == 0:\n",
    "                print(\"epoch: \",epoch,\", iteration: \",i,\", loss: \",loss,\" total loss: \",total_loss)\n",
    "    \n",
    "    \n",
    "        mean_loss = total_loss / total_iter\n",
    "        mean_losses.append(mean_loss)\n",
    "        \n",
    "#         mean_acc = total_acc / total_iter\n",
    "#         mean_accs.append(mean_acc)\n",
    "        \n",
    "        if (epoch + 1) % display_step == 0:\n",
    "            print('epoch %s: loss=%.4f' % (epoch + 1, mean_loss))\n",
    "            \n",
    "    \n",
    "    # Calculate accuracy for test images\n",
    "    print(\"Testing Accuracy:\", sess.run(accuracy, feed_dict={x: x_valid, y: labels_valid, keep_prob: 1., keep_prob2: 1.}))"
   ]
  },
  {
   "cell_type": "code",
   "execution_count": null,
   "metadata": {
    "collapsed": true
   },
   "outputs": [],
   "source": [
    "    # Unused implementation of fully connected layer\n",
    "\n",
    "    # Fully connected layer\n",
    "    # Reshape conv2 output to fit fully connected layer input\n",
    "    fc1 = tf.reshape(conv2, [-1, weights['wd1'].get_shape().as_list()[0]])\n",
    "    print(\"fc1 shape\", fc1.shape)\n",
    "    fc1 = tf.add(tf.matmul(fc1, weights['wd1']), biases['bd1'])\n",
    "    fc1 = tf.nn.relu(fc1)\n",
    "    print(\"fc1 shape after weights and biases\", fc1.shape)\n",
    "    # Apply Dropout\n",
    "    fc1 = tf.nn.dropout(fc1, dropout)\n",
    "\n",
    "    # Output, class prediction (dense layer)\n",
    "    fc2 = tf.add(tf.matmul(fc1, weights['out']), biases['out'])\n",
    "    print(\"fc2 shape after weights and biases\", fc2.shape)\n",
    "#     fc2 = tf.nn.dropout(fc2, dropout2)"
   ]
  }
 ],
 "metadata": {
  "anaconda-cloud": {},
  "kernelspec": {
   "display_name": "Python [Root]",
   "language": "python",
   "name": "Python [Root]"
  },
  "language_info": {
   "codemirror_mode": {
    "name": "ipython",
    "version": 3
   },
   "file_extension": ".py",
   "mimetype": "text/x-python",
   "name": "python",
   "nbconvert_exporter": "python",
   "pygments_lexer": "ipython3",
   "version": "3.5.2"
  }
 },
 "nbformat": 4,
 "nbformat_minor": 0
}
