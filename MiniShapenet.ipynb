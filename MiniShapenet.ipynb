{
 "cells": [
  {
   "cell_type": "code",
   "execution_count": 1,
   "metadata": {
    "collapsed": true
   },
   "outputs": [],
   "source": [
    "%matplotlib inline\n",
    "import tensorflow as tf\n",
    "import numpy as np\n",
    "import matplotlib.pyplot as plt\n",
    "import random\n",
    "import util\n",
    "from util import *\n",
    "from PIL import Image\n",
    "from IPython.display import display"
   ]
  },
  {
   "cell_type": "code",
   "execution_count": 2,
   "metadata": {
    "collapsed": true
   },
   "outputs": [],
   "source": [
    "def load_dataset():\n",
    "    delighted_data = {}\n",
    "    for mesh, mesh_dir in delighted_dirs.items():\n",
    "        mesh_im = Image.open(mesh_dir + '%s_HD_BC.tga' % mesh, 'r')\n",
    "#         mesh_im = mesh_im.resize((256, 256), Image.ANTIALIAS)\n",
    "        mesh_array = zero_rgb(np.array(mesh_im))\n",
    "        mesh_array = mesh_array[:,:,:3]        \n",
    "        delighted_data[mesh] = mesh_array\n",
    "\n",
    "    lighted_data = []\n",
    "    for t, mesh, v, mesh_dir in lighted_dirs:\n",
    "        lit_file = '%s%s_%s_%s_Lit.tga' % (mesh_dir, t, mesh, v)\n",
    "        if not os.path.exists(lit_file):\n",
    "            continue\n",
    "        mesh_im = Image.open(lit_file, 'r')\n",
    "        # resize according to shapenet\n",
    "#         mesh_im = mesh_im.resize((256, 256), Image.ANTIALIAS)\n",
    "        meshes = np.array(mesh_im)[:,:,:3]\n",
    "        lighted_data.append((mesh, meshes))\n",
    "        \n",
    "    return delighted_data, lighted_data\n",
    "\n",
    "#unused method to scale from 0 to 1~ish\n",
    "def preproc(unclean_batch_x):\n",
    "    \"\"\"Convert values to range 0-1\"\"\"\n",
    "    temp_batch = unclean_batch_x / unclean_batch_x.max()\n",
    "    return temp_batch\n",
    "\n",
    "def shuffle(Xtrain, ytrain):\n",
    "    stacked = np.column_stack((Xtrain,ytrain))\n",
    "    np.random.shuffle(stacked)\n",
    "    return stacked[:,:Xtrain.shape[1]], stacked[:,Xtrain.shape[1]]"
   ]
  },
  {
   "cell_type": "code",
   "execution_count": 3,
   "metadata": {
    "collapsed": true
   },
   "outputs": [],
   "source": [
    "date_dir = ''\n",
    "delighted_dirs, lighted_dirs = scan_lighted_delighted(date_dir)\n",
    "\n",
    "delighted_data, lighted_data = load_dataset()"
   ]
  },
  {
   "cell_type": "code",
   "execution_count": 4,
   "metadata": {
    "collapsed": true
   },
   "outputs": [],
   "source": [
    "def conv2d(x, W, b, stride):\n",
    "    x = tf.nn.conv2d(x, W, strides=[1, stride, stride, 1], padding='SAME') + b\n",
    "#     x = tf.contrib.layers.batch_norm(x, center=True, scale=True)\n",
    "    return tf.nn.relu(x)\n",
    "\n",
    "def deconv2d(x, W, b, stride):\n",
    "    x = tf.nn.conv2d(x, W, strides=[1, stride, stride, 1], padding='SAME') + b\n",
    "#     x = tf.contrib.layers.batch_norm(x, center=True, scale=True)\n",
    "    x = tf.nn.relu(x)\n",
    "    \n",
    "    # bilinear interpolation upsampling\n",
    "    old_height, old_width = x.get_shape().as_list()[1 : 3]\n",
    "    scale = 2\n",
    "    new_height = old_height * scale\n",
    "    new_width = old_width * scale\n",
    "    return tf.image.resize_images(x, [new_height, new_width], method=tf.image.ResizeMethod.BILINEAR)\n",
    "\n",
    "ENCODER = 'encoder'\n",
    "MID = 'mid'\n",
    "DECODER = 'decoder'\n",
    "\n",
    "def get_dimension_name(stage, layer_num):\n",
    "    return 'dims_' + stage + '_' + str(layer_num)\n",
    "\n",
    "def get_weight_name(stage, layer_num):\n",
    "    return 'w_' + stage + '_' + str(layer_num)\n",
    "    \n",
    "def get_bias_name(stage, layer_num):\n",
    "    return 'b_' + stage + '_' + str(layer_num)"
   ]
  },
  {
   "cell_type": "code",
   "execution_count": 5,
   "metadata": {
    "collapsed": true
   },
   "outputs": [],
   "source": [
    "# Store layers weight & bias\n",
    "# more parameters\n",
    "FILTER_SIZE = 5 #try 7 if 5 doesn't work\n",
    "INPUT_DEPTH = 3 #try 7 if 5 doesn't work\n",
    "\n",
    "# output depths of the layers\n",
    "ENCODER_DEPTHS = [4, 8, 16]\n",
    "MID_DEPTH = ENCODER_DEPTHS[-1]\n",
    "DECODER_DEPTHS = [8, 4, 3]\n",
    "\n",
    "# defines the sizes for each of the conv / deconv layers\n",
    "layer_dimensions = {}\n",
    "prev_depth = INPUT_DEPTH\n",
    "for i, output_depth in enumerate(ENCODER_DEPTHS):\n",
    "    weight_name = get_dimension_name(ENCODER, i)\n",
    "    stride = 1 if i == 0 else 2 # stride 1 for the first conv layer only\n",
    "    layer_dimensions[weight_name] = {\n",
    "        'input_depth' : prev_depth,\n",
    "        'output_depth' : output_depth,\n",
    "        'stride' : stride,\n",
    "        'filter_size' : FILTER_SIZE\n",
    "    }\n",
    "    prev_depth = output_depth\n",
    "\n",
    "for i in range(1):\n",
    "    weight_name = get_dimension_name(MID, i)\n",
    "    layer_dimensions[weight_name] = {\n",
    "        'input_depth' : MID_DEPTH,\n",
    "        'output_depth' : MID_DEPTH,\n",
    "        'stride' : 1,\n",
    "        'filter_size' : FILTER_SIZE\n",
    "    }\n",
    "\n",
    "prev_depth = MID_DEPTH\n",
    "for i, output_depth in enumerate(DECODER_DEPTHS):\n",
    "    # the ith deconv layer's input is the concatenation of the previous output and the output of (2-i)th encoder conv layer\n",
    "    # so the depth is the sum of the depths\n",
    "    # the last two layers in this loop (5th and 6th layer) are conv layers, not deconv\n",
    "    if i < 2:\n",
    "        prev_encoder_depth = ENCODER_DEPTHS[2 - i]\n",
    "        input_depth = prev_depth + prev_encoder_depth\n",
    "    else: # 3rd layer doesn't have concatenation\n",
    "        input_depth = prev_depth\n",
    "    weight_name = get_dimension_name(DECODER, i)\n",
    "    layer_dimensions[weight_name] = {\n",
    "        'input_depth' : input_depth,\n",
    "        'output_depth' : output_depth,\n",
    "        'stride' : 1,\n",
    "        'filter_size' : FILTER_SIZE\n",
    "    }\n",
    "    prev_depth = output_depth"
   ]
  },
  {
   "cell_type": "code",
   "execution_count": 6,
   "metadata": {
    "collapsed": true
   },
   "outputs": [],
   "source": [
    "class IntrinsicNetwork(object):\n",
    "    def __init__(self, input_dimensions, dimensions, learning_rate=1e-3):\n",
    "        graph = tf.Graph()\n",
    "        self.sess = tf.InteractiveSession(graph=graph)\n",
    "        \n",
    "        self.dimensions = dimensions\n",
    "        self.params = {}\n",
    "        \n",
    "        #input will be 1024x1024x3\n",
    "        self.inp = tf.placeholder(tf.float32, shape=[None,] + list(input_dimensions))\n",
    "        self.expected_output = tf.placeholder(tf.float32, shape=[None,] + list(input_dimensions))\n",
    "        \n",
    "        encoder_layers = self.get_encoder_layers(self.inp)\n",
    "        mid_output = self.get_mid_output(encoder_layers[-1])\n",
    "        self.output = self.get_decoder_output(mid_output, encoder_layers)\n",
    "        \n",
    "        self.loss = tf.reduce_mean(tf.squared_difference(self.output, self.expected_output))\n",
    "        self.optimizer = tf.train.AdamOptimizer(learning_rate=learning_rate).minimize(self.loss)\n",
    "        init = tf.global_variables_initializer()\n",
    "        self.sess.run(init)\n",
    "    \n",
    "    def create_weights(self, stage, layer_num):\n",
    "        dims = self.dimensions[get_dimension_name(stage, layer_num)]\n",
    "        input_depth, output_depth, stride, filter_size = \\\n",
    "            (dims[x] for x in ['input_depth', 'output_depth', 'stride', 'filter_size'])\n",
    "#         W = tf.Variable(tf.random_normal([filter_size, filter_size, input_depth, output_depth]))\n",
    "        W = tf.get_variable(get_weight_name(stage, layer_num), shape=[filter_size, filter_size, input_depth, output_depth], \n",
    "                            initializer=tf.contrib.layers.xavier_initializer())\n",
    "        b = tf.Variable(tf.random_normal([output_depth]))\n",
    "        self.params[get_weight_name(stage, layer_num)] = W\n",
    "        self.params[get_bias_name(stage, layer_num)] = b\n",
    "        return W, b, stride\n",
    "        \n",
    "    def get_encoder_layers(self, input):\n",
    "        prev = input\n",
    "        encoder_layers = []\n",
    "        # encoder layers 0 to 2\n",
    "        for layer_num in range(3):\n",
    "            W, b, stride = self.create_weights(ENCODER, layer_num)\n",
    "            prev = conv2d(prev, W, b, stride)\n",
    "            encoder_layers.append(prev)\n",
    "        return encoder_layers\n",
    "    \n",
    "    def get_mid_output(self, encoder_output):\n",
    "        prev = encoder_output\n",
    "        for layer_num in range(1):\n",
    "            W, b, stride = self.create_weights(MID, layer_num)\n",
    "            prev = conv2d(prev, W, b, stride)\n",
    "        return prev\n",
    "        \n",
    "    def get_decoder_output(self, mid_outputs, encoder_layers):\n",
    "        prev = mid_outputs\n",
    "        for layer_num in range(3):\n",
    "            W, b, stride = self.create_weights(DECODER, layer_num)\n",
    "            if layer_num < 2:\n",
    "                encoder_layer_input = encoder_layers[2 - layer_num]\n",
    "                prev = tf.concat([prev, encoder_layer_input], axis=3)\n",
    "                prev = deconv2d(prev, W, b, stride)\n",
    "            else:\n",
    "                prev = conv2d(prev, W, b, stride)\n",
    "        return prev\n",
    "    \n",
    "    def fit_batch(self, inputs, output):\n",
    "        _, loss = self.sess.run((self.optimizer, self.loss), feed_dict={self.inp : inputs, self.expected_output : output})\n",
    "        return loss\n",
    "    \n",
    "    def train(self, lighted_inputs, delighted_data, epochs, batch_size=1, display_step=5):\n",
    "        random.shuffle(lighted_inputs)\n",
    "        n_samples = len(lighted_inputs)\n",
    "        mean_losses = []\n",
    "        for epoch in range(epochs):\n",
    "            total_iter = n_samples // batch_size\n",
    "            total_loss = 0\n",
    "            for i in range(total_iter):\n",
    "                meshes, inputs = zip(*lighted_inputs[i * batch_size : (i + 1) * batch_size])\n",
    "                inputs = np.asarray(inputs)\n",
    "                expected_outputs = np.asarray([delighted_data[mesh] for mesh in meshes])\n",
    "                loss = self.fit_batch(inputs, expected_outputs)\n",
    "                total_loss += loss\n",
    "            mean_loss = total_loss / total_iter\n",
    "            mean_losses.append(mean_loss)\n",
    "            if (epoch + 1) % display_step == 0:\n",
    "                print('epoch %s: loss=%.4f' % (epoch + 1, mean_loss))\n",
    "                \n",
    "    def predict(self, inputs):\n",
    "        return self.sess.run(self.output, feed_dict={self.inp : inputs})"
   ]
  },
  {
   "cell_type": "code",
   "execution_count": null,
   "metadata": {},
   "outputs": [
    {
     "name": "stdout",
     "output_type": "stream",
     "text": [
      "Couldn't import dot_parser, loading of dot files will not be possible.\n"
     ]
    }
   ],
   "source": [
    "network = IntrinsicNetwork((1024, 1024, 3), layer_dimensions)"
   ]
  },
  {
   "cell_type": "code",
   "execution_count": null,
   "metadata": {},
   "outputs": [
    {
     "name": "stdout",
     "output_type": "stream",
     "text": [
      "epoch 1: loss=3033.2147\n",
      "epoch 2: loss=2732.9137\n",
      "epoch 3: loss=2731.6147\n",
      "epoch 4: loss=2718.6099\n",
      "epoch 5: loss=2700.6218\n",
      "epoch 6: loss=2699.0230\n",
      "epoch 7: loss=2701.9828\n",
      "epoch 8: loss=2686.6187\n",
      "epoch 9: loss=2657.3941\n"
     ]
    }
   ],
   "source": [
    "network.train(lighted_data[50:], delighted_data, display_step=1, epochs=10, batch_size=10)"
   ]
  },
  {
   "cell_type": "code",
   "execution_count": null,
   "metadata": {},
   "outputs": [],
   "source": [
    "label, img = lighted_data[0]\n",
    "plt.imshow(delighted_data[label])\n",
    "plt.show()\n",
    "plt.imshow((network.predict(np.array([img])) * 255)[0].astype(np.uint8))\n",
    "plt.show()"
   ]
  },
  {
   "cell_type": "code",
   "execution_count": null,
   "metadata": {
    "collapsed": true
   },
   "outputs": [],
   "source": []
  }
 ],
 "metadata": {
  "kernelspec": {
   "display_name": "Python 2",
   "language": "python",
   "name": "python2"
  },
  "language_info": {
   "codemirror_mode": {
    "name": "ipython",
    "version": 2
   },
   "file_extension": ".py",
   "mimetype": "text/x-python",
   "name": "python",
   "nbconvert_exporter": "python",
   "pygments_lexer": "ipython2",
   "version": "2.7.6"
  }
 },
 "nbformat": 4,
 "nbformat_minor": 2
}
